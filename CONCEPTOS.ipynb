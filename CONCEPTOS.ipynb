{
  "nbformat": 4,
  "nbformat_minor": 0,
  "metadata": {
    "colab": {
      "provenance": [],
      "authorship_tag": "ABX9TyOOepzrQXZNftt2szTqhzDA",
      "include_colab_link": true
    },
    "kernelspec": {
      "name": "python3",
      "display_name": "Python 3"
    },
    "language_info": {
      "name": "python"
    }
  },
  "cells": [
    {
      "cell_type": "markdown",
      "metadata": {
        "id": "view-in-github",
        "colab_type": "text"
      },
      "source": [
        "<a href=\"https://colab.research.google.com/github/laurasofia-lgtm/conceptos-basicos-/blob/main/CONCEPTOS.ipynb\" target=\"_parent\"><img src=\"https://colab.research.google.com/assets/colab-badge.svg\" alt=\"Open In Colab\"/></a>"
      ]
    },
    {
      "cell_type": "markdown",
      "source": [
        "CONCEPTOS BASICOS- LAURA BARON"
      ],
      "metadata": {
        "id": "1Ks2bM8XhA2_"
      }
    },
    {
      "cell_type": "markdown",
      "source": [
        "# *ESTRUCTURAS DE DATOS*"
      ],
      "metadata": {
        "id": "Q98dWs0Er90b"
      }
    },
    {
      "cell_type": "markdown",
      "source": [
        "## LISTA"
      ],
      "metadata": {
        "id": "reH6WVXvnNLm"
      }
    },
    {
      "cell_type": "code",
      "execution_count": null,
      "metadata": {
        "colab": {
          "base_uri": "https://localhost:8080/"
        },
        "id": "rCTRRRlJfQU1",
        "outputId": "ca091ba2-6b5c-4c68-d62b-f5e75cd48512"
      },
      "outputs": [
        {
          "output_type": "stream",
          "name": "stdout",
          "text": [
            "[1, 2, 3, 4, 5]\n"
          ]
        }
      ],
      "source": [
        "# crear lista\n",
        "mi_lista = [1,2,3,4,5]\n",
        "print(mi_lista)\n"
      ]
    },
    {
      "cell_type": "code",
      "source": [
        "print(mi_lista[0])\n"
      ],
      "metadata": {
        "colab": {
          "base_uri": "https://localhost:8080/"
        },
        "id": "H8SDbxmplTuI",
        "outputId": "af788442-3d08-4cbb-f231-5dd70f6d7216"
      },
      "execution_count": null,
      "outputs": [
        {
          "output_type": "stream",
          "name": "stdout",
          "text": [
            "1\n"
          ]
        }
      ]
    },
    {
      "cell_type": "code",
      "source": [
        "mi_lista.append(9)\n",
        "print(mi_lista)"
      ],
      "metadata": {
        "colab": {
          "base_uri": "https://localhost:8080/"
        },
        "id": "j8QN1QTdlsxW",
        "outputId": "3c97d6f2-e58e-4af8-ebf3-993c103c662e"
      },
      "execution_count": null,
      "outputs": [
        {
          "output_type": "stream",
          "name": "stdout",
          "text": [
            "[1, 2, 3, 4, 5, 9]\n"
          ]
        }
      ]
    },
    {
      "cell_type": "code",
      "source": [
        "frutas=[\"manzana\",\"banano\",\"cereza\"]\n",
        "frutas.append(\"mango\")\n",
        "print(frutas)"
      ],
      "metadata": {
        "colab": {
          "base_uri": "https://localhost:8080/"
        },
        "id": "hTSuhexBl5we",
        "outputId": "94b9d9e6-e133-44d9-b751-df68e500104e"
      },
      "execution_count": null,
      "outputs": [
        {
          "output_type": "stream",
          "name": "stdout",
          "text": [
            "['manzana', 'banano', 'cereza', 'mango']\n"
          ]
        }
      ]
    },
    {
      "cell_type": "code",
      "source": [
        "frutas[0]=\"fresa\"\n",
        "print(frutas)"
      ],
      "metadata": {
        "colab": {
          "base_uri": "https://localhost:8080/"
        },
        "id": "qoVQF8n_m_8W",
        "outputId": "a8391e18-bb94-4a3c-d66d-5c6a277d57ff"
      },
      "execution_count": null,
      "outputs": [
        {
          "output_type": "stream",
          "name": "stdout",
          "text": [
            "['fresa', 'banano', 'cereza', 'mango']\n"
          ]
        }
      ]
    },
    {
      "cell_type": "code",
      "source": [
        "type(frutas)"
      ],
      "metadata": {
        "colab": {
          "base_uri": "https://localhost:8080/"
        },
        "id": "pABGSokKnZOM",
        "outputId": "b841a1df-5ac0-499a-ea6c-4efc6a3c99f7"
      },
      "execution_count": null,
      "outputs": [
        {
          "output_type": "execute_result",
          "data": {
            "text/plain": [
              "list"
            ]
          },
          "metadata": {},
          "execution_count": 10
        }
      ]
    },
    {
      "cell_type": "markdown",
      "source": [
        "##TUPLA\n"
      ],
      "metadata": {
        "id": "-soVb8a2qaHS"
      }
    },
    {
      "cell_type": "code",
      "source": [],
      "metadata": {
        "id": "guxTn_CoqjZB"
      },
      "execution_count": null,
      "outputs": []
    },
    {
      "cell_type": "code",
      "source": [
        "mi_tupla=(1,2,3,4,5)\n",
        "print(mi_tupla)\n",
        "type(mi_tupla)"
      ],
      "metadata": {
        "colab": {
          "base_uri": "https://localhost:8080/"
        },
        "id": "fV1_cRaUnn6D",
        "outputId": "e589b031-8683-4530-bbe5-a532f34ecaf1"
      },
      "execution_count": null,
      "outputs": [
        {
          "output_type": "stream",
          "name": "stdout",
          "text": [
            "(1, 2, 3, 4, 5)\n"
          ]
        },
        {
          "output_type": "execute_result",
          "data": {
            "text/plain": [
              "tuple"
            ]
          },
          "metadata": {},
          "execution_count": 14
        }
      ]
    },
    {
      "cell_type": "markdown",
      "source": [
        "##DICCIONARIO"
      ],
      "metadata": {
        "id": "A9bnnJvkninc"
      }
    },
    {
      "cell_type": "code",
      "source": [
        "mi_diccionario={\"nombre\":\"juan\",\"edad\":20,\"ciudad\":\"bogota\"}\n",
        "print(mi_diccionario)"
      ],
      "metadata": {
        "colab": {
          "base_uri": "https://localhost:8080/"
        },
        "id": "fRT0Ur1Nq9hh",
        "outputId": "3e1adb8c-6989-4ea2-8a20-a2b6cbe43670"
      },
      "execution_count": null,
      "outputs": [
        {
          "output_type": "stream",
          "name": "stdout",
          "text": [
            "{'nombre': 'juan', 'edad': 20, 'ciudad': 'bogota'}\n"
          ]
        }
      ]
    },
    {
      "cell_type": "markdown",
      "source": [
        "# *ESTRUCTURA DE CONTROL DE FLUJO*"
      ],
      "metadata": {
        "id": "SVwRoB1psYb3"
      }
    },
    {
      "cell_type": "code",
      "source": [
        "nota = input(\"ingrese el número de su nota: \")\n",
        "nota = int(nota)\n",
        "if nota >= 5:\n",
        "  print(\"aprobado\")\n",
        "else:\n",
        "  print(\"reprobado\")"
      ],
      "metadata": {
        "colab": {
          "base_uri": "https://localhost:8080/"
        },
        "id": "n3y55nkKs4Jr",
        "outputId": "f61cf660-fddc-4063-d7ab-31df13388fb3"
      },
      "execution_count": null,
      "outputs": [
        {
          "output_type": "stream",
          "name": "stdout",
          "text": [
            "ingrese el número de su nota: 3\n",
            "reprobado\n"
          ]
        }
      ]
    },
    {
      "cell_type": "markdown",
      "source": [
        "EJERCICIO 3"
      ],
      "metadata": {
        "id": "yZaNeOySxcGu"
      }
    },
    {
      "cell_type": "code",
      "source": [
        "edad = input(\"ingrese su edad: \")\n",
        "edad = int(edad)\n",
        "if edad < 2:\n",
        "  print(\"infante\")\n",
        "elif 2 <= edad <= 12:\n",
        "  print(\"Niño\")\n",
        "elif 13 <= edad <= 17:\n",
        "  print(\"Adolecente\")\n",
        "elif 18 <= edad <= 64:\n",
        "  print(\"adulto\")\n",
        "else:\n",
        "  print(\"Senior\")"
      ],
      "metadata": {
        "colab": {
          "base_uri": "https://localhost:8080/"
        },
        "id": "LOb8_azLtyjY",
        "outputId": "e2d79a13-9d35-4276-f8c9-e1af669c1b72"
      },
      "execution_count": null,
      "outputs": [
        {
          "output_type": "stream",
          "name": "stdout",
          "text": [
            "ingrese su edad: 2\n",
            "Niño\n"
          ]
        }
      ]
    },
    {
      "cell_type": "markdown",
      "source": [
        "**BUCLES**"
      ],
      "metadata": {
        "id": "MxWl98HwyY7Y"
      }
    },
    {
      "cell_type": "code",
      "source": [
        "#bucle for\n",
        "frutas=[\"manzana\",\"banano\",\"cereza\"]\n",
        "for fruta in frutas:\n",
        "  print(\"Me gusta comer\", fruta)"
      ],
      "metadata": {
        "colab": {
          "base_uri": "https://localhost:8080/"
        },
        "id": "QJkrk1UMyeBo",
        "outputId": "ea752f4d-246f-4d02-a913-c9adbe8aa1e2"
      },
      "execution_count": null,
      "outputs": [
        {
          "output_type": "stream",
          "name": "stdout",
          "text": [
            "Me gusta comer manzana\n",
            "Me gusta comer banano\n",
            "Me gusta comer cereza\n"
          ]
        }
      ]
    },
    {
      "cell_type": "code",
      "source": [
        "lista=[1,2,3,4,5]\n",
        "for numero in lista:\n",
        "  print(numero * 10)"
      ],
      "metadata": {
        "colab": {
          "base_uri": "https://localhost:8080/"
        },
        "id": "BlmUTxn_zMSA",
        "outputId": "0bb814d4-e4fe-4893-b35b-59609deb78ee"
      },
      "execution_count": null,
      "outputs": [
        {
          "output_type": "stream",
          "name": "stdout",
          "text": [
            "10\n",
            "20\n",
            "30\n",
            "40\n",
            "50\n"
          ]
        }
      ]
    },
    {
      "cell_type": "code",
      "source": [
        "#bucle while\n",
        "contador = 0\n",
        "while contador < 5:\n",
        "  print(\"contador:\", contador)\n",
        "  contador += 1\n"
      ],
      "metadata": {
        "colab": {
          "base_uri": "https://localhost:8080/"
        },
        "id": "w_RL151Hgc_n",
        "outputId": "f37f1ec4-b445-45cb-985a-f70cdb351498"
      },
      "execution_count": 1,
      "outputs": [
        {
          "output_type": "stream",
          "name": "stdout",
          "text": [
            "contador: 0\n",
            "contador: 1\n",
            "contador: 2\n",
            "contador: 3\n",
            "contador: 4\n"
          ]
        }
      ]
    },
    {
      "cell_type": "markdown",
      "source": [
        "FUNCIONES"
      ],
      "metadata": {
        "id": "PNNqUXBpgpBb"
      }
    },
    {
      "cell_type": "code",
      "source": [
        "def saludo():\n",
        "  print(\"hola amigo\")\n",
        "saludo()"
      ],
      "metadata": {
        "colab": {
          "base_uri": "https://localhost:8080/"
        },
        "id": "1CosJgGCgrL8",
        "outputId": "02b74c90-2acd-4953-d398-1ee3c6c35a90"
      },
      "execution_count": 2,
      "outputs": [
        {
          "output_type": "stream",
          "name": "stdout",
          "text": [
            "hola amigo\n"
          ]
        }
      ]
    },
    {
      "cell_type": "code",
      "source": [
        "def holanombre(nombre):\n",
        " print(\"holaa\", nombre , \"!!\")"
      ],
      "metadata": {
        "id": "HgtfevbehISt"
      },
      "execution_count": 10,
      "outputs": []
    },
    {
      "cell_type": "code",
      "metadata": {
        "id": "19896a7a"
      },
      "source": [
        "#ejemplo definir\n",
        "def areacirculo(radio):\n",
        "\n",
        "  print(\"el area del circulo es\" , math.pi * (radio ** 2) )\n"
      ],
      "execution_count": 17,
      "outputs": []
    },
    {
      "cell_type": "code",
      "source": [
        "areacirculo(5)\n"
      ],
      "metadata": {
        "colab": {
          "base_uri": "https://localhost:8080/"
        },
        "id": "sjM24P_WicMx",
        "outputId": "10ca4c79-c86a-466e-9cf9-e9f2a59ac93e"
      },
      "execution_count": 19,
      "outputs": [
        {
          "output_type": "stream",
          "name": "stdout",
          "text": [
            "el area del circulo es 78.53981633974483\n"
          ]
        }
      ]
    },
    {
      "cell_type": "code",
      "source": [
        "# ejemplo de celcious a F\n",
        "def farenheit(celsius):\n",
        "  print(celsius * 9/5 + 32)"
      ],
      "metadata": {
        "id": "jumLHJYLjhn0"
      },
      "execution_count": 20,
      "outputs": []
    },
    {
      "cell_type": "code",
      "source": [
        "farenheit(25)"
      ],
      "metadata": {
        "colab": {
          "base_uri": "https://localhost:8080/"
        },
        "id": "cVetlsHIkEZY",
        "outputId": "335ecc9e-e692-409d-8e73-12b6357237be"
      },
      "execution_count": 21,
      "outputs": [
        {
          "output_type": "stream",
          "name": "stdout",
          "text": [
            "77.0\n"
          ]
        }
      ]
    },
    {
      "cell_type": "markdown",
      "source": [
        "LIBRERIAS"
      ],
      "metadata": {
        "id": "soCmxl6okU6g"
      }
    },
    {
      "cell_type": "code",
      "source": [],
      "metadata": {
        "id": "-22V7MsRkYlf"
      },
      "execution_count": null,
      "outputs": []
    }
  ]
}